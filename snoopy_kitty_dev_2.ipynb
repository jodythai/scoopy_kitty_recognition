{
 "cells": [
  {
   "cell_type": "markdown",
   "metadata": {},
   "source": [
    "## Load Libraries"
   ]
  },
  {
   "cell_type": "code",
   "execution_count": 1,
   "metadata": {
    "ExecuteTime": {
     "end_time": "2019-08-23T03:58:05.081721Z",
     "start_time": "2019-08-23T03:58:05.079108Z"
    }
   },
   "outputs": [],
   "source": [
    "# Installing Tensorflow 2.0\n",
    "# !python3 -m pip install tensorflow==2.0.0-beta1"
   ]
  },
  {
   "cell_type": "code",
   "execution_count": 2,
   "metadata": {
    "ExecuteTime": {
     "end_time": "2019-08-23T05:01:27.781790Z",
     "start_time": "2019-08-23T05:01:24.927166Z"
    }
   },
   "outputs": [
    {
     "name": "stderr",
     "output_type": "stream",
     "text": [
      "/home/jupyter/.local/lib/python3.5/site-packages/tensorflow/python/framework/dtypes.py:516: FutureWarning: Passing (type, 1) or '1type' as a synonym of type is deprecated; in a future version of numpy, it will be understood as (type, (1,)) / '(1,)type'.\n",
      "  _np_qint8 = np.dtype([(\"qint8\", np.int8, 1)])\n",
      "/home/jupyter/.local/lib/python3.5/site-packages/tensorflow/python/framework/dtypes.py:517: FutureWarning: Passing (type, 1) or '1type' as a synonym of type is deprecated; in a future version of numpy, it will be understood as (type, (1,)) / '(1,)type'.\n",
      "  _np_quint8 = np.dtype([(\"quint8\", np.uint8, 1)])\n",
      "/home/jupyter/.local/lib/python3.5/site-packages/tensorflow/python/framework/dtypes.py:518: FutureWarning: Passing (type, 1) or '1type' as a synonym of type is deprecated; in a future version of numpy, it will be understood as (type, (1,)) / '(1,)type'.\n",
      "  _np_qint16 = np.dtype([(\"qint16\", np.int16, 1)])\n",
      "/home/jupyter/.local/lib/python3.5/site-packages/tensorflow/python/framework/dtypes.py:519: FutureWarning: Passing (type, 1) or '1type' as a synonym of type is deprecated; in a future version of numpy, it will be understood as (type, (1,)) / '(1,)type'.\n",
      "  _np_quint16 = np.dtype([(\"quint16\", np.uint16, 1)])\n",
      "/home/jupyter/.local/lib/python3.5/site-packages/tensorflow/python/framework/dtypes.py:520: FutureWarning: Passing (type, 1) or '1type' as a synonym of type is deprecated; in a future version of numpy, it will be understood as (type, (1,)) / '(1,)type'.\n",
      "  _np_qint32 = np.dtype([(\"qint32\", np.int32, 1)])\n",
      "/home/jupyter/.local/lib/python3.5/site-packages/tensorflow/python/framework/dtypes.py:525: FutureWarning: Passing (type, 1) or '1type' as a synonym of type is deprecated; in a future version of numpy, it will be understood as (type, (1,)) / '(1,)type'.\n",
      "  np_resource = np.dtype([(\"resource\", np.ubyte, 1)])\n",
      "/home/jupyter/.local/lib/python3.5/site-packages/tensorboard/compat/tensorflow_stub/dtypes.py:541: FutureWarning: Passing (type, 1) or '1type' as a synonym of type is deprecated; in a future version of numpy, it will be understood as (type, (1,)) / '(1,)type'.\n",
      "  _np_qint8 = np.dtype([(\"qint8\", np.int8, 1)])\n",
      "/home/jupyter/.local/lib/python3.5/site-packages/tensorboard/compat/tensorflow_stub/dtypes.py:542: FutureWarning: Passing (type, 1) or '1type' as a synonym of type is deprecated; in a future version of numpy, it will be understood as (type, (1,)) / '(1,)type'.\n",
      "  _np_quint8 = np.dtype([(\"quint8\", np.uint8, 1)])\n",
      "/home/jupyter/.local/lib/python3.5/site-packages/tensorboard/compat/tensorflow_stub/dtypes.py:543: FutureWarning: Passing (type, 1) or '1type' as a synonym of type is deprecated; in a future version of numpy, it will be understood as (type, (1,)) / '(1,)type'.\n",
      "  _np_qint16 = np.dtype([(\"qint16\", np.int16, 1)])\n",
      "/home/jupyter/.local/lib/python3.5/site-packages/tensorboard/compat/tensorflow_stub/dtypes.py:544: FutureWarning: Passing (type, 1) or '1type' as a synonym of type is deprecated; in a future version of numpy, it will be understood as (type, (1,)) / '(1,)type'.\n",
      "  _np_quint16 = np.dtype([(\"quint16\", np.uint16, 1)])\n",
      "/home/jupyter/.local/lib/python3.5/site-packages/tensorboard/compat/tensorflow_stub/dtypes.py:545: FutureWarning: Passing (type, 1) or '1type' as a synonym of type is deprecated; in a future version of numpy, it will be understood as (type, (1,)) / '(1,)type'.\n",
      "  _np_qint32 = np.dtype([(\"qint32\", np.int32, 1)])\n",
      "/home/jupyter/.local/lib/python3.5/site-packages/tensorboard/compat/tensorflow_stub/dtypes.py:550: FutureWarning: Passing (type, 1) or '1type' as a synonym of type is deprecated; in a future version of numpy, it will be understood as (type, (1,)) / '(1,)type'.\n",
      "  np_resource = np.dtype([(\"resource\", np.ubyte, 1)])\n"
     ]
    },
    {
     "data": {
      "text/plain": [
       "'2.0.0-beta1'"
      ]
     },
     "execution_count": 2,
     "metadata": {},
     "output_type": "execute_result"
    }
   ],
   "source": [
    "from __future__ import absolute_import, division, print_function, unicode_literals\n",
    "\n",
    "# # Install TensorFlow\n",
    "# try:\n",
    "#   # %tensorflow_version only exists in Colab.\n",
    "#   %tensorflow_version 2.x\n",
    "# except Exception:\n",
    "#   pass\n",
    "\n",
    "import tensorflow as tf\n",
    "\n",
    "# Make sure that we have the correct version\n",
    "# Expected result: '2.0.0-beta1'\n",
    "tf.__version__"
   ]
  },
  {
   "cell_type": "code",
   "execution_count": 3,
   "metadata": {
    "ExecuteTime": {
     "end_time": "2019-08-23T05:01:28.059209Z",
     "start_time": "2019-08-23T05:01:27.789527Z"
    }
   },
   "outputs": [],
   "source": [
    "import matplotlib.pyplot as plt\n",
    "import numpy as np\n",
    "import os\n",
    "from tensorflow.compat.v2.keras.preprocessing.image import ImageDataGenerator, load_img"
   ]
  },
  {
   "cell_type": "markdown",
   "metadata": {},
   "source": [
    "## Define Constants"
   ]
  },
  {
   "cell_type": "code",
   "execution_count": 4,
   "metadata": {
    "ExecuteTime": {
     "end_time": "2019-08-23T05:01:28.202324Z",
     "start_time": "2019-08-23T05:01:28.198347Z"
    }
   },
   "outputs": [],
   "source": [
    "DATA_DIR = 'data'\n",
    "IMAGE_WIDTH = 120\n",
    "IMAGE_HEIGHT = 120\n",
    "IMAGE_SIZE = (IMAGE_WIDTH, IMAGE_HEIGHT)"
   ]
  },
  {
   "cell_type": "markdown",
   "metadata": {},
   "source": [
    "## Load and preprocess data\n"
   ]
  },
  {
   "cell_type": "code",
   "execution_count": 5,
   "metadata": {
    "ExecuteTime": {
     "end_time": "2019-08-23T05:01:28.875700Z",
     "start_time": "2019-08-23T05:01:28.870597Z"
    }
   },
   "outputs": [
    {
     "name": "stdout",
     "output_type": "stream",
     "text": [
      "data\n"
     ]
    }
   ],
   "source": [
    "import pathlib\n",
    "data_root = pathlib.Path(DATA_DIR)\n",
    "print(data_root)"
   ]
  },
  {
   "cell_type": "code",
   "execution_count": 6,
   "metadata": {
    "ExecuteTime": {
     "end_time": "2019-08-23T05:01:30.290989Z",
     "start_time": "2019-08-23T05:01:30.285898Z"
    }
   },
   "outputs": [
    {
     "name": "stdout",
     "output_type": "stream",
     "text": [
      "data/Archive.zip\n",
      "data/train\n",
      "data/test\n"
     ]
    }
   ],
   "source": [
    "for item in data_root.iterdir():\n",
    "  print(item)"
   ]
  },
  {
   "cell_type": "code",
   "execution_count": 7,
   "metadata": {
    "ExecuteTime": {
     "end_time": "2019-08-23T05:02:22.646665Z",
     "start_time": "2019-08-23T05:02:22.346831Z"
    }
   },
   "outputs": [
    {
     "name": "stdout",
     "output_type": "stream",
     "text": [
      "25000\n",
      "12500\n"
     ]
    }
   ],
   "source": [
    "import random\n",
    "train_image_paths = list(data_root.glob('train/*'))\n",
    "train_image_paths = [str(path) for path in train_image_paths]\n",
    "random.shuffle(train_image_paths)\n",
    "\n",
    "test_image_paths = list(data_root.glob('test/*'))\n",
    "test_image_paths = [str(path) for path in test_image_paths]\n",
    "random.shuffle(test_image_paths)\n",
    "\n",
    "# Count all images\n",
    "image_count = len(train_image_paths)\n",
    "print(image_count)\n",
    "print(len(test_image_paths))"
   ]
  },
  {
   "cell_type": "markdown",
   "metadata": {},
   "source": [
    "### Create datasets from directories"
   ]
  },
  {
   "cell_type": "code",
   "execution_count": 8,
   "metadata": {
    "ExecuteTime": {
     "end_time": "2019-08-23T05:01:37.313761Z",
     "start_time": "2019-08-23T05:01:37.310152Z"
    }
   },
   "outputs": [],
   "source": [
    "# Get labels from files name\n",
    "def get_image_labels(file_dir):\n",
    "  image_labels = []\n",
    "\n",
    "  for item in data_root.glob(file_dir):\n",
    "\n",
    "    if item.is_file() and item.name.find('c'):\n",
    "      label = 0\n",
    "    else:\n",
    "      label = 1\n",
    "\n",
    "    image_labels.append(label)\n",
    "    \n",
    "  return image_labels"
   ]
  },
  {
   "cell_type": "code",
   "execution_count": 9,
   "metadata": {
    "ExecuteTime": {
     "end_time": "2019-08-23T05:01:41.979013Z",
     "start_time": "2019-08-23T05:01:41.367427Z"
    }
   },
   "outputs": [
    {
     "name": "stdout",
     "output_type": "stream",
     "text": [
      "[1, 0, 0, 1, 1, 0, 0, 1, 0, 1]\n"
     ]
    }
   ],
   "source": [
    "train_image_labels = get_image_labels('train/*')\n",
    "print(train_image_labels[0:10])"
   ]
  },
  {
   "cell_type": "code",
   "execution_count": 10,
   "metadata": {
    "ExecuteTime": {
     "end_time": "2019-08-23T05:01:47.070781Z",
     "start_time": "2019-08-23T05:01:47.067919Z"
    }
   },
   "outputs": [],
   "source": [
    "# import pandas as pd\n",
    "\n",
    "# def get_images_df(file_dir):\n",
    "#   labels = []\n",
    "#   files = os.listdir(file_dir) \n",
    "  \n",
    "#   for file_name in files:\n",
    "#     label = file_name.split('.')[0]\n",
    "    \n",
    "# #     if label == 'cat':\n",
    "# #       labels.append(0)\n",
    "# #     else:\n",
    "# #       labels.append(1)\n",
    "    \n",
    "#     labels.append(label)\n",
    "  \n",
    "#   df = pd.DataFrame({\n",
    "#     'file_name': files,\n",
    "#     'category': labels\n",
    "#   })\n",
    "  \n",
    "#   return df"
   ]
  },
  {
   "cell_type": "code",
   "execution_count": 11,
   "metadata": {
    "ExecuteTime": {
     "end_time": "2019-08-23T05:01:51.129205Z",
     "start_time": "2019-08-23T05:01:51.126553Z"
    }
   },
   "outputs": [],
   "source": [
    "# df_train_images = get_images_df(DATA_DIR + '/train')"
   ]
  },
  {
   "cell_type": "code",
   "execution_count": 12,
   "metadata": {
    "ExecuteTime": {
     "end_time": "2019-08-23T05:01:53.385267Z",
     "start_time": "2019-08-23T05:01:53.382448Z"
    }
   },
   "outputs": [],
   "source": [
    "# df_train_images.head(5)"
   ]
  },
  {
   "cell_type": "markdown",
   "metadata": {},
   "source": [
    "### Train - Test Splitting"
   ]
  },
  {
   "cell_type": "code",
   "execution_count": 13,
   "metadata": {
    "ExecuteTime": {
     "end_time": "2019-08-23T05:01:56.016147Z",
     "start_time": "2019-08-23T05:01:56.013770Z"
    }
   },
   "outputs": [],
   "source": [
    "# from sklearn.model_selection import train_test_split\n",
    "\n",
    "# # df_train, df_test = train_test_split(df_train_images, test_size=0.1, random_state=42)\n",
    "# df_train, df_validation = train_test_split(df_train_images, test_size=0.2, random_state=42)\n",
    "\n",
    "# # df_test = df_test.reset_index(drop=True)\n",
    "# df_train = df_train.reset_index(drop=True)\n",
    "# df_validation = df_validation.reset_index(drop=True)"
   ]
  },
  {
   "cell_type": "code",
   "execution_count": 14,
   "metadata": {
    "ExecuteTime": {
     "end_time": "2019-08-23T05:01:58.991400Z",
     "start_time": "2019-08-23T05:01:58.988460Z"
    }
   },
   "outputs": [],
   "source": [
    "# print(len(df_train), len(df_validation))"
   ]
  },
  {
   "cell_type": "code",
   "execution_count": 15,
   "metadata": {
    "ExecuteTime": {
     "end_time": "2019-08-23T05:02:00.722748Z",
     "start_time": "2019-08-23T05:02:00.719908Z"
    }
   },
   "outputs": [],
   "source": [
    "# print(df_train.shape)"
   ]
  },
  {
   "cell_type": "markdown",
   "metadata": {},
   "source": [
    "### Print out some images"
   ]
  },
  {
   "cell_type": "code",
   "execution_count": 16,
   "metadata": {
    "ExecuteTime": {
     "end_time": "2019-08-23T05:02:40.410866Z",
     "start_time": "2019-08-23T05:02:40.399084Z"
    }
   },
   "outputs": [
    {
     "data": {
      "image/jpeg": "[encoded data removed]",
      "text/plain": [
       "<IPython.core.display.Image object>"
      ]
     },
     "metadata": {},
     "output_type": "display_data"
    },
    {
     "name": "stdout",
     "output_type": "stream",
     "text": [
      "\n"
     ]
    },
    {
     "data": {
      "image/jpeg": "[encoded data removed]",
      "text/plain": [
       "<IPython.core.display.Image object>"
      ]
     },
     "metadata": {},
     "output_type": "display_data"
    },
    {
     "name": "stdout",
     "output_type": "stream",
     "text": [
      "\n"
     ]
    },
    {
     "data": {
      "image/jpeg": "[encoded data removed]",
      "text/plain": [
       "<IPython.core.display.Image object>"
      ]
     },
     "metadata": {},
     "output_type": "display_data"
    },
    {
     "name": "stdout",
     "output_type": "stream",
     "text": [
      "\n"
     ]
    }
   ],
   "source": [
    "import IPython.display as display\n",
    "\n",
    "for n in range(3):\n",
    "    image_path = random.choice(train_image_paths)\n",
    "    display.display(display.Image(image_path))\n",
    "    print()"
   ]
  },
  {
   "cell_type": "markdown",
   "metadata": {},
   "source": [
    "## Mini Batch Processing"
   ]
  },
  {
   "cell_type": "code",
   "execution_count": 17,
   "metadata": {
    "ExecuteTime": {
     "end_time": "2019-08-23T05:03:51.627649Z",
     "start_time": "2019-08-23T05:03:51.623549Z"
    }
   },
   "outputs": [],
   "source": [
    "def preprocess_image(image):\n",
    "    image = tf.image.decode_jpeg(image, channels=3)\n",
    "    image = tf.image.resize(image, [IMAGE_WIDTH, IMAGE_HEIGHT])\n",
    "    image /= 255.0  # normalize to [0,1] range\n",
    "    image = 2*image-1  # normalize to [-1,1] range\n",
    "\n",
    "    return image\n",
    "\n",
    "def load_and_preprocess_image(path):\n",
    "    image = tf.io.read_file(path)\n",
    "    return preprocess_image(image)"
   ]
  },
  {
   "cell_type": "code",
   "execution_count": 18,
   "metadata": {
    "ExecuteTime": {
     "end_time": "2019-08-23T05:02:49.295059Z",
     "start_time": "2019-08-23T05:02:49.252479Z"
    }
   },
   "outputs": [],
   "source": [
    "# Slicing the array of strings, results in a dataset of strings:\n",
    "path_ds = tf.data.Dataset.from_tensor_slices(train_image_paths)"
   ]
  },
  {
   "cell_type": "code",
   "execution_count": 19,
   "metadata": {
    "ExecuteTime": {
     "end_time": "2019-08-23T05:03:53.447910Z",
     "start_time": "2019-08-23T05:03:53.347504Z"
    }
   },
   "outputs": [
    {
     "data": {
      "text/plain": [
       "<MapDataset shapes: ((120, 120, 3), ()), types: (tf.float32, tf.int32)>"
      ]
     },
     "execution_count": 19,
     "metadata": {},
     "output_type": "execute_result"
    }
   ],
   "source": [
    "ds = tf.data.Dataset.from_tensor_slices((train_image_paths, train_image_labels))\n",
    "\n",
    "# The tuples are unpacked into the positional arguments of the mapped function\n",
    "def load_and_preprocess_from_path_label(path, label):\n",
    "  return load_and_preprocess_image(path), label\n",
    "\n",
    "image_label_ds = ds.map(load_and_preprocess_from_path_label)\n",
    "image_label_ds"
   ]
  },
  {
   "cell_type": "code",
   "execution_count": 20,
   "metadata": {
    "ExecuteTime": {
     "end_time": "2019-08-23T05:03:55.846817Z",
     "start_time": "2019-08-23T05:03:55.840435Z"
    }
   },
   "outputs": [
    {
     "data": {
      "text/plain": [
       "<PrefetchDataset shapes: ((None, 120, 120, 3), (None,)), types: (tf.float32, tf.int32)>"
      ]
     },
     "execution_count": 20,
     "metadata": {},
     "output_type": "execute_result"
    }
   ],
   "source": [
    "BATCH_SIZE = 32\n",
    "AUTOTUNE = tf.data.experimental.AUTOTUNE\n",
    "\n",
    "\n",
    "# Setting a shuffle buffer size as large as the dataset ensures that the data is\n",
    "# completely shuffled.\n",
    "ds = image_label_ds.shuffle(buffer_size=image_count)\n",
    "ds = ds.repeat()\n",
    "ds = ds.batch(BATCH_SIZE)\n",
    "# `prefetch` lets the dataset fetch batches in the background while the model is training.\n",
    "ds = ds.prefetch(buffer_size=AUTOTUNE)\n",
    "ds"
   ]
  },
  {
   "cell_type": "code",
   "execution_count": 21,
   "metadata": {
    "ExecuteTime": {
     "end_time": "2019-08-23T04:04:55.961770Z",
     "start_time": "2019-08-23T04:04:55.956929Z"
    }
   },
   "outputs": [],
   "source": [
    "# df_train.shape"
   ]
  },
  {
   "cell_type": "markdown",
   "metadata": {},
   "source": [
    "### Image Preprocessing"
   ]
  },
  {
   "cell_type": "code",
   "execution_count": 22,
   "metadata": {
    "ExecuteTime": {
     "end_time": "2019-08-23T05:04:02.099780Z",
     "start_time": "2019-08-23T05:04:02.097244Z"
    }
   },
   "outputs": [],
   "source": [
    "# # Preprocess Train dataset\n",
    "# train_datagen = ImageDataGenerator(\n",
    "#         rotation_range=15,\n",
    "#         rescale=1./255,\n",
    "#         shear_range=0.1,\n",
    "#         zoom_range=0.2,\n",
    "#         horizontal_flip=True,\n",
    "#         width_shift_range=0.1,\n",
    "#         height_shift_range=0.1)\n",
    "\n",
    "# train_generator = train_datagen.flow_from_dataframe(\n",
    "#         df_train,\n",
    "#         directory=DATA_DIR + '/train/',\n",
    "#         x_col='file_name',\n",
    "#         y_col='category',\n",
    "#         target_size=IMAGE_SIZE,\n",
    "#         batch_size=15,\n",
    "#         class_mode='categorical')\n",
    "\n",
    "# # Preprocess Validation dataset\n",
    "# validation_datagen = ImageDataGenerator(rescale=1./255)\n",
    "\n",
    "# validation_generator = validation_datagen.flow_from_dataframe(\n",
    "#         df_validation,\n",
    "#         directory=DATA_DIR + '/train/',\n",
    "#         x_col='file_name',\n",
    "#         y_col='category',\n",
    "#         target_size=IMAGE_SIZE,\n",
    "#         batch_size=15,\n",
    "#         class_mode='categorical')"
   ]
  },
  {
   "cell_type": "code",
   "execution_count": 23,
   "metadata": {
    "ExecuteTime": {
     "end_time": "2019-08-23T05:04:15.530767Z",
     "start_time": "2019-08-23T05:04:15.527766Z"
    }
   },
   "outputs": [],
   "source": [
    "# IMAGE_SIZE"
   ]
  },
  {
   "cell_type": "code",
   "execution_count": 24,
   "metadata": {
    "ExecuteTime": {
     "end_time": "2019-08-23T05:04:17.451994Z",
     "start_time": "2019-08-23T05:04:17.449269Z"
    }
   },
   "outputs": [],
   "source": [
    "# df_sample = df_train.sample(1).reset_index(drop=True)\n",
    "# sample_generator = train_datagen.flow_from_dataframe(\n",
    "#     df_sample,\n",
    "#     directory=DATA_DIR + '/train/',\n",
    "#     x_col='file_name',\n",
    "#     y_col='category',\n",
    "#     target_size=IMAGE_SIZE,\n",
    "#     seed=42,\n",
    "#     shuffle=True,\n",
    "#     class_mode='categorical'\n",
    "# )"
   ]
  },
  {
   "cell_type": "code",
   "execution_count": 25,
   "metadata": {
    "ExecuteTime": {
     "end_time": "2019-08-23T05:04:19.587036Z",
     "start_time": "2019-08-23T05:04:19.584570Z"
    }
   },
   "outputs": [],
   "source": [
    "# plt.figure(figsize=(12, 12))\n",
    "# for i in range(0, 15):\n",
    "#     plt.subplot(5, 3, i+1)\n",
    "#     for X_batch, Y_batch in sample_generator:\n",
    "#         image = X_batch[0]\n",
    "#         plt.imshow(image)\n",
    "#         break\n",
    "# plt.tight_layout()\n",
    "# plt.show()"
   ]
  },
  {
   "cell_type": "markdown",
   "metadata": {},
   "source": [
    "## Create Model"
   ]
  },
  {
   "cell_type": "code",
   "execution_count": 26,
   "metadata": {
    "ExecuteTime": {
     "end_time": "2019-08-23T05:05:25.832751Z",
     "start_time": "2019-08-23T05:05:25.823272Z"
    }
   },
   "outputs": [],
   "source": [
    "from tensorflow.keras.layers import Conv2D, MaxPooling2D, Dropout, Flatten, Dense, Activation, BatchNormalization\n",
    "\n",
    "def create_model():\n",
    "  model = tf.keras.Sequential()\n",
    "  \n",
    "  model.add(Conv2D(32, (3, 3), activation='relu', input_shape=(IMAGE_WIDTH, IMAGE_HEIGHT, 3)))\n",
    "  model.add(BatchNormalization())\n",
    "  model.add(MaxPooling2D(pool_size=(2, 2)))\n",
    "  model.add(Dropout(0.25))\n",
    "\n",
    "  model.add(Conv2D(64, (3, 3), activation='relu'))\n",
    "  model.add(BatchNormalization())\n",
    "  model.add(MaxPooling2D(pool_size=(2, 2)))\n",
    "  model.add(Dropout(0.25))\n",
    "\n",
    "#   model.add(Conv2D(128, (3, 3), activation='relu'))\n",
    "#   model.add(BatchNormalization())\n",
    "#   model.add(MaxPooling2D(pool_size=(2, 2)))\n",
    "#   model.add(Dropout(0.25))\n",
    "\n",
    "  model.add(Flatten())\n",
    "  model.add(Dense(128, activation='relu'))\n",
    "  model.add(BatchNormalization())\n",
    "  model.add(Dropout(0.5))\n",
    "  model.add(Dense(2, activation='softmax')) # 2 because we have cat and dog classes\n",
    "  \n",
    "  model.compile(optimizer='adam', loss='sparse_categorical_crossentropy', metrics=['accuracy'])\n",
    "  \n",
    "  return model"
   ]
  },
  {
   "cell_type": "code",
   "execution_count": 27,
   "metadata": {
    "ExecuteTime": {
     "end_time": "2019-08-23T05:05:27.803010Z",
     "start_time": "2019-08-23T05:05:27.381352Z"
    }
   },
   "outputs": [],
   "source": [
    "model = create_model()"
   ]
  },
  {
   "cell_type": "code",
   "execution_count": 28,
   "metadata": {
    "ExecuteTime": {
     "end_time": "2019-08-23T05:05:28.060952Z",
     "start_time": "2019-08-23T05:05:28.049644Z"
    }
   },
   "outputs": [
    {
     "name": "stdout",
     "output_type": "stream",
     "text": [
      "Model: \"sequential\"\n",
      "_________________________________________________________________\n",
      "Layer (type)                 Output Shape              Param #   \n",
      "=================================================================\n",
      "conv2d (Conv2D)              (None, 118, 118, 32)      896       \n",
      "_________________________________________________________________\n",
      "batch_normalization (BatchNo (None, 118, 118, 32)      128       \n",
      "_________________________________________________________________\n",
      "max_pooling2d (MaxPooling2D) (None, 59, 59, 32)        0         \n",
      "_________________________________________________________________\n",
      "dropout (Dropout)            (None, 59, 59, 32)        0         \n",
      "_________________________________________________________________\n",
      "conv2d_1 (Conv2D)            (None, 57, 57, 64)        18496     \n",
      "_________________________________________________________________\n",
      "batch_normalization_1 (Batch (None, 57, 57, 64)        256       \n",
      "_________________________________________________________________\n",
      "max_pooling2d_1 (MaxPooling2 (None, 28, 28, 64)        0         \n",
      "_________________________________________________________________\n",
      "dropout_1 (Dropout)          (None, 28, 28, 64)        0         \n",
      "_________________________________________________________________\n",
      "flatten (Flatten)            (None, 50176)             0         \n",
      "_________________________________________________________________\n",
      "dense (Dense)                (None, 128)               6422656   \n",
      "_________________________________________________________________\n",
      "batch_normalization_2 (Batch (None, 128)               512       \n",
      "_________________________________________________________________\n",
      "dropout_2 (Dropout)          (None, 128)               0         \n",
      "_________________________________________________________________\n",
      "dense_1 (Dense)              (None, 2)                 258       \n",
      "=================================================================\n",
      "Total params: 6,443,202\n",
      "Trainable params: 6,442,754\n",
      "Non-trainable params: 448\n",
      "_________________________________________________________________\n"
     ]
    }
   ],
   "source": [
    "model.summary()"
   ]
  },
  {
   "cell_type": "markdown",
   "metadata": {},
   "source": [
    "### Create Checkpoint"
   ]
  },
  {
   "cell_type": "code",
   "execution_count": 29,
   "metadata": {
    "ExecuteTime": {
     "end_time": "2019-08-23T05:06:58.388823Z",
     "start_time": "2019-08-23T05:06:58.385348Z"
    }
   },
   "outputs": [],
   "source": [
    "checkpoint_path = \"static/models/checkpoints/cp.ckpt\"\n",
    "checkpoint_dir = os.path.dirname(checkpoint_path)\n",
    "\n",
    "# Create a callback that saves the model's weights\n",
    "# by default it saves the weights every epoch\n",
    "cp_callback = tf.keras.callbacks.ModelCheckpoint(filepath=checkpoint_path,\n",
    "                                                 save_weights_only=True,\n",
    "                                                 verbose=1)"
   ]
  },
  {
   "cell_type": "code",
   "execution_count": 30,
   "metadata": {
    "ExecuteTime": {
     "end_time": "2019-08-23T05:06:46.547972Z",
     "start_time": "2019-08-23T05:06:46.545556Z"
    }
   },
   "outputs": [],
   "source": [
    "# from tensorflow.keras.callbacks import EarlyStopping, ModelCheckpoint, ReduceLROnPlateau\n",
    "# callbacks = [\n",
    "# #     EarlyStopping(patience=10, verbose=1),\n",
    "# #     ReduceLROnPlateau(factor=0.1, patience=3, min_lr=0.00001, verbose=1),\n",
    "#     ModelCheckpoint('checkpoints/model.h5', verbose=1, save_best_only=True, save_weights_only=True)\n",
    "# ]"
   ]
  },
  {
   "cell_type": "markdown",
   "metadata": {},
   "source": [
    "### Train model"
   ]
  },
  {
   "cell_type": "code",
   "execution_count": 31,
   "metadata": {
    "ExecuteTime": {
     "start_time": "2019-08-23T05:08:03.932Z"
    },
    "scrolled": true
   },
   "outputs": [
    {
     "name": "stdout",
     "output_type": "stream",
     "text": [
      "Epoch 1/20\n"
     ]
    },
    {
     "name": "stderr",
     "output_type": "stream",
     "text": [
      "WARNING: Logging before flag parsing goes to stderr.\n",
      "W0823 06:46:09.321191 140099126875904 deprecation.py:323] From /home/jupyter/.local/lib/python3.5/site-packages/tensorflow/python/ops/math_grad.py:1250: add_dispatch_support.<locals>.wrapper (from tensorflow.python.ops.array_ops) is deprecated and will be removed in a future version.\n",
      "Instructions for updating:\n",
      "Use tf.where in 2.0, which has the same broadcast rule as np.where\n"
     ]
    },
    {
     "name": "stdout",
     "output_type": "stream",
     "text": [
      "781/782 [============================>.] - ETA: 0s - loss: 0.8111 - accuracy: 0.4961\n",
      "Epoch 00001: saving model to static/models/checkpoints/cp.ckpt\n",
      "782/782 [==============================] - 631s 807ms/step - loss: 0.8109 - accuracy: 0.4961\n",
      "Epoch 2/20\n",
      "781/782 [============================>.] - ETA: 0s - loss: 0.6995 - accuracy: 0.5116\n",
      "Epoch 00002: saving model to static/models/checkpoints/cp.ckpt\n",
      "782/782 [==============================] - 440s 563ms/step - loss: 0.6995 - accuracy: 0.5118\n",
      "Epoch 3/20\n",
      "781/782 [============================>.] - ETA: 0s - loss: 0.6993 - accuracy: 0.5108\n",
      "Epoch 00003: saving model to static/models/checkpoints/cp.ckpt\n",
      "782/782 [==============================] - 437s 559ms/step - loss: 0.6994 - accuracy: 0.5108\n",
      "Epoch 4/20\n",
      "781/782 [============================>.] - ETA: 0s - loss: 0.6994 - accuracy: 0.5051\n",
      "Epoch 00004: saving model to static/models/checkpoints/cp.ckpt\n",
      "782/782 [==============================] - 440s 563ms/step - loss: 0.6994 - accuracy: 0.5050\n",
      "Epoch 5/20\n",
      "781/782 [============================>.] - ETA: 0s - loss: 0.6989 - accuracy: 0.5030\n",
      "Epoch 00005: saving model to static/models/checkpoints/cp.ckpt\n",
      "782/782 [==============================] - 431s 551ms/step - loss: 0.6988 - accuracy: 0.5033\n",
      "Epoch 6/20\n",
      "781/782 [============================>.] - ETA: 0s - loss: 0.6982 - accuracy: 0.5093\n",
      "Epoch 00006: saving model to static/models/checkpoints/cp.ckpt\n",
      "782/782 [==============================] - 431s 552ms/step - loss: 0.6982 - accuracy: 0.5093\n",
      "Epoch 7/20\n",
      "781/782 [============================>.] - ETA: 0s - loss: 0.6976 - accuracy: 0.5068\n",
      "Epoch 00007: saving model to static/models/checkpoints/cp.ckpt\n",
      "782/782 [==============================] - 433s 554ms/step - loss: 0.6976 - accuracy: 0.5069\n",
      "Epoch 8/20\n",
      "781/782 [============================>.] - ETA: 0s - loss: 0.6963 - accuracy: 0.5134\n",
      "Epoch 00008: saving model to static/models/checkpoints/cp.ckpt\n",
      "782/782 [==============================] - 427s 546ms/step - loss: 0.6963 - accuracy: 0.5133\n",
      "Epoch 9/20\n",
      "781/782 [============================>.] - ETA: 0s - loss: 0.6952 - accuracy: 0.5213\n",
      "Epoch 00009: saving model to static/models/checkpoints/cp.ckpt\n",
      "782/782 [==============================] - 423s 541ms/step - loss: 0.6952 - accuracy: 0.5213\n",
      "Epoch 10/20\n",
      "781/782 [============================>.] - ETA: 0s - loss: 0.6938 - accuracy: 0.5282\n",
      "Epoch 00010: saving model to static/models/checkpoints/cp.ckpt\n",
      "782/782 [==============================] - 417s 533ms/step - loss: 0.6939 - accuracy: 0.5280\n",
      "Epoch 11/20\n",
      "781/782 [============================>.] - ETA: 0s - loss: 0.6898 - accuracy: 0.5428\n",
      "Epoch 00011: saving model to static/models/checkpoints/cp.ckpt\n",
      "782/782 [==============================] - 414s 529ms/step - loss: 0.6897 - accuracy: 0.5432\n",
      "Epoch 12/20\n",
      "781/782 [============================>.] - ETA: 0s - loss: 0.6847 - accuracy: 0.5561\n",
      "Epoch 00012: saving model to static/models/checkpoints/cp.ckpt\n",
      "782/782 [==============================] - 413s 528ms/step - loss: 0.6846 - accuracy: 0.5560\n",
      "Epoch 13/20\n",
      "781/782 [============================>.] - ETA: 0s - loss: 0.6743 - accuracy: 0.5786\n",
      "Epoch 00013: saving model to static/models/checkpoints/cp.ckpt\n",
      "782/782 [==============================] - 414s 530ms/step - loss: 0.6743 - accuracy: 0.5786\n",
      "Epoch 14/20\n",
      "781/782 [============================>.] - ETA: 0s - loss: 0.6536 - accuracy: 0.6118\n",
      "Epoch 00014: saving model to static/models/checkpoints/cp.ckpt\n",
      "782/782 [==============================] - 418s 534ms/step - loss: 0.6536 - accuracy: 0.6117\n",
      "Epoch 15/20\n",
      "781/782 [============================>.] - ETA: 0s - loss: 0.6153 - accuracy: 0.6597\n",
      "Epoch 00015: saving model to static/models/checkpoints/cp.ckpt\n",
      "782/782 [==============================] - 411s 526ms/step - loss: 0.6153 - accuracy: 0.6597\n",
      "Epoch 16/20\n",
      "781/782 [============================>.] - ETA: 0s - loss: 0.5793 - accuracy: 0.6954\n",
      "Epoch 00016: saving model to static/models/checkpoints/cp.ckpt\n",
      "782/782 [==============================] - 411s 525ms/step - loss: 0.5792 - accuracy: 0.6955\n",
      "Epoch 17/20\n",
      "781/782 [============================>.] - ETA: 0s - loss: 0.5214 - accuracy: 0.7408\n",
      "Epoch 00017: saving model to static/models/checkpoints/cp.ckpt\n",
      "782/782 [==============================] - 408s 522ms/step - loss: 0.5212 - accuracy: 0.7410\n",
      "Epoch 18/20\n",
      "781/782 [============================>.] - ETA: 0s - loss: 0.4860 - accuracy: 0.7670\n",
      "Epoch 00018: saving model to static/models/checkpoints/cp.ckpt\n",
      "782/782 [==============================] - 409s 524ms/step - loss: 0.4859 - accuracy: 0.7671\n",
      "Epoch 19/20\n",
      "781/782 [============================>.] - ETA: 0s - loss: 0.4267 - accuracy: 0.8029\n",
      "Epoch 00019: saving model to static/models/checkpoints/cp.ckpt\n",
      "782/782 [==============================] - 412s 527ms/step - loss: 0.4266 - accuracy: 0.8030\n",
      "Epoch 20/20\n",
      "781/782 [============================>.] - ETA: 0s - loss: 0.4094 - accuracy: 0.8139\n",
      "Epoch 00020: saving model to static/models/checkpoints/cp.ckpt\n",
      "782/782 [==============================] - 395s 505ms/step - loss: 0.4092 - accuracy: 0.8141\n"
     ]
    }
   ],
   "source": [
    "steps_per_epoch=tf.math.ceil(len(train_image_paths)/BATCH_SIZE).numpy()\n",
    "history = model.fit(ds, epochs=20, steps_per_epoch=steps_per_epoch, callbacks=[cp_callback])"
   ]
  },
  {
   "cell_type": "code",
   "execution_count": 33,
   "metadata": {},
   "outputs": [],
   "source": [
    "model.save('models/my_model.h5')"
   ]
  },
  {
   "cell_type": "code",
   "execution_count": 32,
   "metadata": {
    "ExecuteTime": {
     "end_time": "2019-08-23T05:06:04.865085Z",
     "start_time": "2019-08-23T05:06:04.861860Z"
    }
   },
   "outputs": [],
   "source": [
    "# total_train = df_train.shape[0]\n",
    "# total_validation = df_validation.shape[0]\n",
    "\n",
    "# print(total_train, total_validation)\n",
    "\n",
    "# STEP_SIZE_TRAIN=total_train//train_generator.batch_size\n",
    "# STEP_SIZE_VALID=total_validation//validation_generator.batch_size\n",
    "\n",
    "# print(STEP_SIZE_TRAIN, STEP_SIZE_VALID)\n",
    "\n",
    "# model.fit_generator(generator=train_generator,\n",
    "#                     steps_per_epoch=STEP_SIZE_TRAIN,\n",
    "#                     validation_data=validation_generator,\n",
    "#                     validation_steps=STEP_SIZE_VALID,\n",
    "#                     callbacks=callbacks,\n",
    "#                     epochs=5)"
   ]
  },
  {
   "cell_type": "code",
   "execution_count": null,
   "metadata": {},
   "outputs": [],
   "source": []
  }
 ],
 "metadata": {
  "kernelspec": {
   "display_name": "Python 3",
   "language": "python",
   "name": "python3"
  },
  "language_info": {
   "codemirror_mode": {
    "name": "ipython",
    "version": 3
   },
   "file_extension": ".py",
   "mimetype": "text/x-python",
   "name": "python",
   "nbconvert_exporter": "python",
   "pygments_lexer": "ipython3",
   "version": "3.5.3"
  },
  "toc": {
   "base_numbering": 1,
   "nav_menu": {},
   "number_sections": true,
   "sideBar": true,
   "skip_h1_title": true,
   "title_cell": "Table of Contents",
   "title_sidebar": "Contents",
   "toc_cell": false,
   "toc_position": {
    "height": "calc(100% - 180px)",
    "left": "10px",
    "top": "150px",
    "width": "288px"
   },
   "toc_section_display": true,
   "toc_window_display": true
  },
  "varInspector": {
   "cols": {
    "lenName": 16,
    "lenType": 16,
    "lenVar": 40
   },
   "kernels_config": {
    "python": {
     "delete_cmd_postfix": "",
     "delete_cmd_prefix": "del ",
     "library": "var_list.py",
     "varRefreshCmd": "print(var_dic_list())"
    },
    "r": {
     "delete_cmd_postfix": ") ",
     "delete_cmd_prefix": "rm(",
     "library": "var_list.r",
     "varRefreshCmd": "cat(var_dic_list()) "
    }
   },
   "position": {
    "height": "381px",
    "left": "1070px",
    "right": "20px",
    "top": "120px",
    "width": "350px"
   },
   "types_to_exclude": [
    "module",
    "function",
    "builtin_function_or_method",
    "instance",
    "_Feature"
   ],
   "window_display": false
  }
 },
 "nbformat": 4,
 "nbformat_minor": 4
}
